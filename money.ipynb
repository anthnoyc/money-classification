{
 "cells": [
  {
   "cell_type": "code",
   "execution_count": 6,
   "metadata": {},
   "outputs": [],
   "source": [
    "import pandas as pd\n",
    "import matplotlib.pyplot as plt\n",
    "import numpy as np"
   ]
  },
  {
   "cell_type": "code",
   "execution_count": 47,
   "metadata": {},
   "outputs": [
    {
     "data": {
      "text/html": [
       "<div>\n",
       "<style scoped>\n",
       "    .dataframe tbody tr th:only-of-type {\n",
       "        vertical-align: middle;\n",
       "    }\n",
       "\n",
       "    .dataframe tbody tr th {\n",
       "        vertical-align: top;\n",
       "    }\n",
       "\n",
       "    .dataframe thead th {\n",
       "        text-align: right;\n",
       "    }\n",
       "</style>\n",
       "<table border=\"1\" class=\"dataframe\">\n",
       "  <thead>\n",
       "    <tr style=\"text-align: right;\">\n",
       "      <th></th>\n",
       "      <th>Unnamed: 0</th>\n",
       "      <th>v_0</th>\n",
       "      <th>v_1</th>\n",
       "      <th>v_2</th>\n",
       "      <th>v_3</th>\n",
       "      <th>v_4</th>\n",
       "      <th>v_5</th>\n",
       "      <th>v_6</th>\n",
       "      <th>v_7</th>\n",
       "      <th>v_8</th>\n",
       "      <th>...</th>\n",
       "      <th>v_248</th>\n",
       "      <th>v_249</th>\n",
       "      <th>v_250</th>\n",
       "      <th>v_251</th>\n",
       "      <th>v_252</th>\n",
       "      <th>v_253</th>\n",
       "      <th>v_254</th>\n",
       "      <th>v_255</th>\n",
       "      <th>Currency</th>\n",
       "      <th>Denomination</th>\n",
       "    </tr>\n",
       "  </thead>\n",
       "  <tbody>\n",
       "    <tr>\n",
       "      <th>0</th>\n",
       "      <td>0</td>\n",
       "      <td>0.000000</td>\n",
       "      <td>0.802783</td>\n",
       "      <td>4.799193</td>\n",
       "      <td>3.520272</td>\n",
       "      <td>3.906448</td>\n",
       "      <td>2.964886</td>\n",
       "      <td>2.276473</td>\n",
       "      <td>0.472117</td>\n",
       "      <td>0.000000</td>\n",
       "      <td>...</td>\n",
       "      <td>0.319955</td>\n",
       "      <td>5.005167</td>\n",
       "      <td>5.144637</td>\n",
       "      <td>0.000000</td>\n",
       "      <td>0.717125</td>\n",
       "      <td>0.0</td>\n",
       "      <td>4.724614</td>\n",
       "      <td>0.000000</td>\n",
       "      <td>AUD</td>\n",
       "      <td>100_1</td>\n",
       "    </tr>\n",
       "    <tr>\n",
       "      <th>1</th>\n",
       "      <td>1</td>\n",
       "      <td>1.282011</td>\n",
       "      <td>0.169436</td>\n",
       "      <td>4.367540</td>\n",
       "      <td>4.476254</td>\n",
       "      <td>5.645983</td>\n",
       "      <td>2.173897</td>\n",
       "      <td>0.638572</td>\n",
       "      <td>0.000000</td>\n",
       "      <td>0.149849</td>\n",
       "      <td>...</td>\n",
       "      <td>0.671412</td>\n",
       "      <td>4.548221</td>\n",
       "      <td>2.671707</td>\n",
       "      <td>0.000000</td>\n",
       "      <td>0.317925</td>\n",
       "      <td>0.0</td>\n",
       "      <td>2.648906</td>\n",
       "      <td>0.656381</td>\n",
       "      <td>AUD</td>\n",
       "      <td>100_1</td>\n",
       "    </tr>\n",
       "    <tr>\n",
       "      <th>2</th>\n",
       "      <td>2</td>\n",
       "      <td>1.956406</td>\n",
       "      <td>0.000000</td>\n",
       "      <td>5.244660</td>\n",
       "      <td>3.611655</td>\n",
       "      <td>5.085964</td>\n",
       "      <td>3.766434</td>\n",
       "      <td>0.000000</td>\n",
       "      <td>1.865016</td>\n",
       "      <td>2.853455</td>\n",
       "      <td>...</td>\n",
       "      <td>0.434040</td>\n",
       "      <td>6.429610</td>\n",
       "      <td>2.465012</td>\n",
       "      <td>0.000000</td>\n",
       "      <td>0.197883</td>\n",
       "      <td>0.0</td>\n",
       "      <td>0.823947</td>\n",
       "      <td>1.539916</td>\n",
       "      <td>AUD</td>\n",
       "      <td>100_1</td>\n",
       "    </tr>\n",
       "    <tr>\n",
       "      <th>3</th>\n",
       "      <td>3</td>\n",
       "      <td>0.382722</td>\n",
       "      <td>3.727718</td>\n",
       "      <td>4.409414</td>\n",
       "      <td>3.093557</td>\n",
       "      <td>6.277169</td>\n",
       "      <td>0.000000</td>\n",
       "      <td>1.368437</td>\n",
       "      <td>0.000000</td>\n",
       "      <td>1.095514</td>\n",
       "      <td>...</td>\n",
       "      <td>2.279172</td>\n",
       "      <td>4.439319</td>\n",
       "      <td>0.273129</td>\n",
       "      <td>0.438889</td>\n",
       "      <td>2.423372</td>\n",
       "      <td>0.0</td>\n",
       "      <td>1.724243</td>\n",
       "      <td>0.000000</td>\n",
       "      <td>AUD</td>\n",
       "      <td>100_1</td>\n",
       "    </tr>\n",
       "    <tr>\n",
       "      <th>4</th>\n",
       "      <td>4</td>\n",
       "      <td>0.619588</td>\n",
       "      <td>0.071276</td>\n",
       "      <td>3.780865</td>\n",
       "      <td>3.637381</td>\n",
       "      <td>4.144943</td>\n",
       "      <td>3.829269</td>\n",
       "      <td>0.811821</td>\n",
       "      <td>0.387360</td>\n",
       "      <td>1.005720</td>\n",
       "      <td>...</td>\n",
       "      <td>0.000000</td>\n",
       "      <td>6.559031</td>\n",
       "      <td>4.807416</td>\n",
       "      <td>0.017139</td>\n",
       "      <td>0.000000</td>\n",
       "      <td>0.0</td>\n",
       "      <td>2.969594</td>\n",
       "      <td>0.000000</td>\n",
       "      <td>AUD</td>\n",
       "      <td>100_1</td>\n",
       "    </tr>\n",
       "  </tbody>\n",
       "</table>\n",
       "<p>5 rows × 259 columns</p>\n",
       "</div>"
      ],
      "text/plain": [
       "   Unnamed: 0       v_0       v_1       v_2       v_3       v_4       v_5  \\\n",
       "0           0  0.000000  0.802783  4.799193  3.520272  3.906448  2.964886   \n",
       "1           1  1.282011  0.169436  4.367540  4.476254  5.645983  2.173897   \n",
       "2           2  1.956406  0.000000  5.244660  3.611655  5.085964  3.766434   \n",
       "3           3  0.382722  3.727718  4.409414  3.093557  6.277169  0.000000   \n",
       "4           4  0.619588  0.071276  3.780865  3.637381  4.144943  3.829269   \n",
       "\n",
       "        v_6       v_7       v_8  ...     v_248     v_249     v_250     v_251  \\\n",
       "0  2.276473  0.472117  0.000000  ...  0.319955  5.005167  5.144637  0.000000   \n",
       "1  0.638572  0.000000  0.149849  ...  0.671412  4.548221  2.671707  0.000000   \n",
       "2  0.000000  1.865016  2.853455  ...  0.434040  6.429610  2.465012  0.000000   \n",
       "3  1.368437  0.000000  1.095514  ...  2.279172  4.439319  0.273129  0.438889   \n",
       "4  0.811821  0.387360  1.005720  ...  0.000000  6.559031  4.807416  0.017139   \n",
       "\n",
       "      v_252  v_253     v_254     v_255  Currency  Denomination  \n",
       "0  0.717125    0.0  4.724614  0.000000       AUD         100_1  \n",
       "1  0.317925    0.0  2.648906  0.656381       AUD         100_1  \n",
       "2  0.197883    0.0  0.823947  1.539916       AUD         100_1  \n",
       "3  2.423372    0.0  1.724243  0.000000       AUD         100_1  \n",
       "4  0.000000    0.0  2.969594  0.000000       AUD         100_1  \n",
       "\n",
       "[5 rows x 259 columns]"
      ]
     },
     "execution_count": 47,
     "metadata": {},
     "output_type": "execute_result"
    }
   ],
   "source": [
    "df = pd.read_csv('banknote_net.csv')\n",
    "df.head()"
   ]
  },
  {
   "cell_type": "code",
   "execution_count": 48,
   "metadata": {},
   "outputs": [],
   "source": [
    "df.drop('Unnamed: 0', axis=1, inplace=True)"
   ]
  },
  {
   "cell_type": "code",
   "execution_count": 49,
   "metadata": {},
   "outputs": [],
   "source": [
    "df.head()\n",
    "image_values = df.drop(['Currency', 'Denomination'], axis=1)"
   ]
  },
  {
   "cell_type": "code",
   "execution_count": 50,
   "metadata": {},
   "outputs": [
    {
     "data": {
      "text/html": [
       "<div>\n",
       "<style scoped>\n",
       "    .dataframe tbody tr th:only-of-type {\n",
       "        vertical-align: middle;\n",
       "    }\n",
       "\n",
       "    .dataframe tbody tr th {\n",
       "        vertical-align: top;\n",
       "    }\n",
       "\n",
       "    .dataframe thead th {\n",
       "        text-align: right;\n",
       "    }\n",
       "</style>\n",
       "<table border=\"1\" class=\"dataframe\">\n",
       "  <thead>\n",
       "    <tr style=\"text-align: right;\">\n",
       "      <th></th>\n",
       "      <th>v_0</th>\n",
       "      <th>v_1</th>\n",
       "      <th>v_2</th>\n",
       "      <th>v_3</th>\n",
       "      <th>v_4</th>\n",
       "      <th>v_5</th>\n",
       "      <th>v_6</th>\n",
       "      <th>v_7</th>\n",
       "      <th>v_8</th>\n",
       "      <th>v_9</th>\n",
       "      <th>...</th>\n",
       "      <th>v_246</th>\n",
       "      <th>v_247</th>\n",
       "      <th>v_248</th>\n",
       "      <th>v_249</th>\n",
       "      <th>v_250</th>\n",
       "      <th>v_251</th>\n",
       "      <th>v_252</th>\n",
       "      <th>v_253</th>\n",
       "      <th>v_254</th>\n",
       "      <th>v_255</th>\n",
       "    </tr>\n",
       "  </thead>\n",
       "  <tbody>\n",
       "    <tr>\n",
       "      <th>0</th>\n",
       "      <td>0.000000</td>\n",
       "      <td>0.802783</td>\n",
       "      <td>4.799193</td>\n",
       "      <td>3.520272</td>\n",
       "      <td>3.906448</td>\n",
       "      <td>2.964886</td>\n",
       "      <td>2.276473</td>\n",
       "      <td>0.472117</td>\n",
       "      <td>0.000000</td>\n",
       "      <td>0.351116</td>\n",
       "      <td>...</td>\n",
       "      <td>0.000000</td>\n",
       "      <td>1.585952</td>\n",
       "      <td>0.319955</td>\n",
       "      <td>5.005167</td>\n",
       "      <td>5.144637</td>\n",
       "      <td>0.000000</td>\n",
       "      <td>0.717125</td>\n",
       "      <td>0.0</td>\n",
       "      <td>4.724614</td>\n",
       "      <td>0.000000</td>\n",
       "    </tr>\n",
       "    <tr>\n",
       "      <th>1</th>\n",
       "      <td>1.282011</td>\n",
       "      <td>0.169436</td>\n",
       "      <td>4.367540</td>\n",
       "      <td>4.476254</td>\n",
       "      <td>5.645983</td>\n",
       "      <td>2.173897</td>\n",
       "      <td>0.638572</td>\n",
       "      <td>0.000000</td>\n",
       "      <td>0.149849</td>\n",
       "      <td>0.516939</td>\n",
       "      <td>...</td>\n",
       "      <td>0.134530</td>\n",
       "      <td>3.286497</td>\n",
       "      <td>0.671412</td>\n",
       "      <td>4.548221</td>\n",
       "      <td>2.671707</td>\n",
       "      <td>0.000000</td>\n",
       "      <td>0.317925</td>\n",
       "      <td>0.0</td>\n",
       "      <td>2.648906</td>\n",
       "      <td>0.656381</td>\n",
       "    </tr>\n",
       "    <tr>\n",
       "      <th>2</th>\n",
       "      <td>1.956406</td>\n",
       "      <td>0.000000</td>\n",
       "      <td>5.244660</td>\n",
       "      <td>3.611655</td>\n",
       "      <td>5.085964</td>\n",
       "      <td>3.766434</td>\n",
       "      <td>0.000000</td>\n",
       "      <td>1.865016</td>\n",
       "      <td>2.853455</td>\n",
       "      <td>1.840774</td>\n",
       "      <td>...</td>\n",
       "      <td>0.000000</td>\n",
       "      <td>1.284498</td>\n",
       "      <td>0.434040</td>\n",
       "      <td>6.429610</td>\n",
       "      <td>2.465012</td>\n",
       "      <td>0.000000</td>\n",
       "      <td>0.197883</td>\n",
       "      <td>0.0</td>\n",
       "      <td>0.823947</td>\n",
       "      <td>1.539916</td>\n",
       "    </tr>\n",
       "    <tr>\n",
       "      <th>3</th>\n",
       "      <td>0.382722</td>\n",
       "      <td>3.727718</td>\n",
       "      <td>4.409414</td>\n",
       "      <td>3.093557</td>\n",
       "      <td>6.277169</td>\n",
       "      <td>0.000000</td>\n",
       "      <td>1.368437</td>\n",
       "      <td>0.000000</td>\n",
       "      <td>1.095514</td>\n",
       "      <td>0.958835</td>\n",
       "      <td>...</td>\n",
       "      <td>0.836599</td>\n",
       "      <td>2.196379</td>\n",
       "      <td>2.279172</td>\n",
       "      <td>4.439319</td>\n",
       "      <td>0.273129</td>\n",
       "      <td>0.438889</td>\n",
       "      <td>2.423372</td>\n",
       "      <td>0.0</td>\n",
       "      <td>1.724243</td>\n",
       "      <td>0.000000</td>\n",
       "    </tr>\n",
       "    <tr>\n",
       "      <th>4</th>\n",
       "      <td>0.619588</td>\n",
       "      <td>0.071276</td>\n",
       "      <td>3.780865</td>\n",
       "      <td>3.637381</td>\n",
       "      <td>4.144943</td>\n",
       "      <td>3.829269</td>\n",
       "      <td>0.811821</td>\n",
       "      <td>0.387360</td>\n",
       "      <td>1.005720</td>\n",
       "      <td>1.084254</td>\n",
       "      <td>...</td>\n",
       "      <td>0.000000</td>\n",
       "      <td>1.230110</td>\n",
       "      <td>0.000000</td>\n",
       "      <td>6.559031</td>\n",
       "      <td>4.807416</td>\n",
       "      <td>0.017139</td>\n",
       "      <td>0.000000</td>\n",
       "      <td>0.0</td>\n",
       "      <td>2.969594</td>\n",
       "      <td>0.000000</td>\n",
       "    </tr>\n",
       "  </tbody>\n",
       "</table>\n",
       "<p>5 rows × 256 columns</p>\n",
       "</div>"
      ],
      "text/plain": [
       "        v_0       v_1       v_2       v_3       v_4       v_5       v_6  \\\n",
       "0  0.000000  0.802783  4.799193  3.520272  3.906448  2.964886  2.276473   \n",
       "1  1.282011  0.169436  4.367540  4.476254  5.645983  2.173897  0.638572   \n",
       "2  1.956406  0.000000  5.244660  3.611655  5.085964  3.766434  0.000000   \n",
       "3  0.382722  3.727718  4.409414  3.093557  6.277169  0.000000  1.368437   \n",
       "4  0.619588  0.071276  3.780865  3.637381  4.144943  3.829269  0.811821   \n",
       "\n",
       "        v_7       v_8       v_9  ...     v_246     v_247     v_248     v_249  \\\n",
       "0  0.472117  0.000000  0.351116  ...  0.000000  1.585952  0.319955  5.005167   \n",
       "1  0.000000  0.149849  0.516939  ...  0.134530  3.286497  0.671412  4.548221   \n",
       "2  1.865016  2.853455  1.840774  ...  0.000000  1.284498  0.434040  6.429610   \n",
       "3  0.000000  1.095514  0.958835  ...  0.836599  2.196379  2.279172  4.439319   \n",
       "4  0.387360  1.005720  1.084254  ...  0.000000  1.230110  0.000000  6.559031   \n",
       "\n",
       "      v_250     v_251     v_252  v_253     v_254     v_255  \n",
       "0  5.144637  0.000000  0.717125    0.0  4.724614  0.000000  \n",
       "1  2.671707  0.000000  0.317925    0.0  2.648906  0.656381  \n",
       "2  2.465012  0.000000  0.197883    0.0  0.823947  1.539916  \n",
       "3  0.273129  0.438889  2.423372    0.0  1.724243  0.000000  \n",
       "4  4.807416  0.017139  0.000000    0.0  2.969594  0.000000  \n",
       "\n",
       "[5 rows x 256 columns]"
      ]
     },
     "execution_count": 50,
     "metadata": {},
     "output_type": "execute_result"
    }
   ],
   "source": [
    "image_values.head()"
   ]
  },
  {
   "cell_type": "code",
   "execution_count": 64,
   "metadata": {},
   "outputs": [
    {
     "data": {
      "image/png": "[encoded data removed]",
      "text/plain": [
       "<Figure size 640x480 with 1 Axes>"
      ]
     },
     "metadata": {},
     "output_type": "display_data"
    },
    {
     "name": "stdout",
     "output_type": "stream",
     "text": [
      "AUD 10_1\n"
     ]
    },
    {
     "data": {
      "image/png": "[encoded data removed]",
      "text/plain": [
       "<Figure size 640x480 with 1 Axes>"
      ]
     },
     "metadata": {},
     "output_type": "display_data"
    },
    {
     "name": "stdout",
     "output_type": "stream",
     "text": [
      "AUD 10_1\n"
     ]
    },
    {
     "data": {
      "image/png": "[encoded data removed]",
      "text/plain": [
       "<Figure size 640x480 with 1 Axes>"
      ]
     },
     "metadata": {},
     "output_type": "display_data"
    },
    {
     "name": "stdout",
     "output_type": "stream",
     "text": [
      "AUD 10_1\n"
     ]
    },
    {
     "data": {
      "image/png": "[encoded data removed]",
      "text/plain": [
       "<Figure size 640x480 with 1 Axes>"
      ]
     },
     "metadata": {},
     "output_type": "display_data"
    },
    {
     "name": "stdout",
     "output_type": "stream",
     "text": [
      "AUD 10_1\n"
     ]
    },
    {
     "data": {
      "image/png": "[encoded data removed]",
      "text/plain": [
       "<Figure size 640x480 with 1 Axes>"
      ]
     },
     "metadata": {},
     "output_type": "display_data"
    },
    {
     "name": "stdout",
     "output_type": "stream",
     "text": [
      "AUD 10_1\n"
     ]
    },
    {
     "data": {
      "image/png": "[encoded data removed]",
      "text/plain": [
       "<Figure size 640x480 with 1 Axes>"
      ]
     },
     "metadata": {},
     "output_type": "display_data"
    },
    {
     "name": "stdout",
     "output_type": "stream",
     "text": [
      "AUD 10_1\n"
     ]
    },
    {
     "data": {
      "image/png": "[encoded data removed]",
      "text/plain": [
       "<Figure size 640x480 with 1 Axes>"
      ]
     },
     "metadata": {},
     "output_type": "display_data"
    },
    {
     "name": "stdout",
     "output_type": "stream",
     "text": [
      "AUD 10_1\n"
     ]
    },
    {
     "data": {
      "image/png": "[encoded data removed]",
      "text/plain": [
       "<Figure size 640x480 with 1 Axes>"
      ]
     },
     "metadata": {},
     "output_type": "display_data"
    },
    {
     "name": "stdout",
     "output_type": "stream",
     "text": [
      "AUD 10_2\n"
     ]
    },
    {
     "data": {
      "image/png": "[encoded data removed]",
      "text/plain": [
       "<Figure size 640x480 with 1 Axes>"
      ]
     },
     "metadata": {},
     "output_type": "display_data"
    },
    {
     "name": "stdout",
     "output_type": "stream",
     "text": [
      "AUD 10_2\n"
     ]
    },
    {
     "data": {
      "image/png": "[encoded data removed]",
      "text/plain": [
       "<Figure size 640x480 with 1 Axes>"
      ]
     },
     "metadata": {},
     "output_type": "display_data"
    },
    {
     "name": "stdout",
     "output_type": "stream",
     "text": [
      "AUD 10_2\n"
     ]
    }
   ],
   "source": [
    "for i in range(500, 510):\n",
    "    first_value = image_values.iloc[i]\n",
    "    image_data = first_value.to_numpy()\n",
    "    image_data_reshaped = image_data.reshape((16,16))\n",
    "    plt.imshow(image_data_reshaped)\n",
    "    plt.axis('off')\n",
    "    plt.show()\n",
    "    print(df.iloc[i]['Currency'], df.iloc[i]['Denomination'])"
   ]
  },
  {
   "cell_type": "code",
   "execution_count": null,
   "metadata": {},
   "outputs": [],
   "source": []
  }
 ],
 "metadata": {
  "kernelspec": {
   "display_name": "base",
   "language": "python",
   "name": "python3"
  },
  "language_info": {
   "codemirror_mode": {
    "name": "ipython",
    "version": 3
   },
   "file_extension": ".py",
   "mimetype": "text/x-python",
   "name": "python",
   "nbconvert_exporter": "python",
   "pygments_lexer": "ipython3",
   "version": "3.9.13"
  }
 },
 "nbformat": 4,
 "nbformat_minor": 2
}
